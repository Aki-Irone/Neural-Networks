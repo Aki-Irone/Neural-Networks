{
 "cells": [
  {
   "cell_type": "markdown",
   "metadata": {},
   "source": [
    "# Ex02 Single Layer Neural Networks\n"
   ]
  },
  {
   "cell_type": "code",
   "execution_count": 54,
   "metadata": {},
   "outputs": [
    {
     "name": "stdout",
     "output_type": "stream",
     "text": [
      "Error in the 1-th\tlearning cycle = 6.0\n",
      "Error in the 2-th\tlearning cycle = 6.0\n",
      "Error in the 3-th\tlearning cycle = 4.0\n",
      "Error in the 4-th\tlearning cycle = 4.0\n",
      "Error in the 5-th\tlearning cycle = 2.0\n",
      "Error in the 6-th\tlearning cycle = 0.0\n",
      "\n",
      "\n",
      "The connection weights are:\n",
      "7.18170 5.42941 6.94911 \n",
      "-3.31781 -11.86156 0.52152 \n",
      "-9.64852 -2.25232 1.26370 \n"
     ]
    }
   ],
   "source": [
    "import math\n",
    "import random\n",
    "\n",
    "N = 3\n",
    "R = 3\n",
    "n_sample = 3\n",
    "eta = 0.5\n",
    "lambda_ = 1.0\n",
    "desired_error = 0.1\n",
    "\n",
    "def switch(x):\n",
    "    return 1 if x > 0 else -1 if x < 0 else -1\n",
    "\n",
    "def frand():\n",
    "    return random.random() - 0.5\n",
    "\n",
    "def initialization():\n",
    "    return [[frand() for _ in range(N)] for _ in range(R)]\n",
    "\n",
    "def find_output(p):\n",
    "    temp = [0] * R\n",
    "    for i in range(R):\n",
    "        temp[i] = sum(w[i][j] * x[p][j] for j in range(N))\n",
    "        o[i] = switch(temp[i])\n",
    "\n",
    "def print_result():\n",
    "    print(\"\\n\\nThe connection weights are:\")\n",
    "    for i in range(R):\n",
    "        for j in range(N):\n",
    "            print(f\"{w[i][j]:.5f}\", end=\" \")\n",
    "        print()\n",
    "\n",
    "\n",
    "x = [\n",
    "    [10, 2, -1],\n",
    "    [2, -5, -1],\n",
    "    [-5, 5, -1],\n",
    "]  \n",
    "\n",
    "d = [\n",
    "    [1, -1, -1],\n",
    "    [-1, 1, -1],\n",
    "    [-1, -1, 1],\n",
    "]\n",
    "\n",
    "w = initialization()\n",
    "o = [0] * R\n",
    "\n",
    "q = 0\n",
    "Error = float('inf')\n",
    "\n",
    "while Error > desired_error:\n",
    "    q += 1\n",
    "    Error = 0\n",
    "    for p in range(n_sample):\n",
    "        find_output(p)\n",
    "        for i in range(R):\n",
    "            Error += 0.5 * (d[p][i] - o[i]) ** 2\n",
    "            learning_signal = eta * (d[p][i] - o[i])\n",
    "            for j in range(N):\n",
    "                w[i][j] += learning_signal * x[p][j]\n",
    "\n",
    "    print(f\"Error in the {q}-th\\tlearning cycle = {Error}\")\n",
    "\n",
    "print_result()"
   ]
  }
 ],
 "metadata": {
  "kernelspec": {
   "display_name": ".venv",
   "language": "python",
   "name": "python3"
  },
  "language_info": {
   "codemirror_mode": {
    "name": "ipython",
    "version": 3
   },
   "file_extension": ".py",
   "mimetype": "text/x-python",
   "name": "python",
   "nbconvert_exporter": "python",
   "pygments_lexer": "ipython3",
   "version": "3.10.11"
  }
 },
 "nbformat": 4,
 "nbformat_minor": 2
}
