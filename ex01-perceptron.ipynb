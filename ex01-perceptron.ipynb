{
 "cells": [
  {
   "cell_type": "markdown",
   "metadata": {},
   "source": [
    "# Ex01 Perceptron-Learning Rule\n"
   ]
  },
  {
   "cell_type": "code",
   "execution_count": 1,
   "metadata": {},
   "outputs": [
    {
     "name": "stdout",
     "output_type": "stream",
     "text": [
      "Error in the 1-th learning cycle=4.0\n",
      "Error in the 2-th learning cycle=4.0\n",
      "Error in the 3-th learning cycle=6.0\n",
      "Error in the 4-th learning cycle=4.0\n",
      "Error in the 5-th learning cycle=2.0\n",
      "Error in the 6-th learning cycle=0.0\n",
      "\n",
      "\n",
      "\n",
      "The connection weights of the neurons:\n",
      "[1.84241901 1.06964426 2.4033045 ]\n",
      "\n",
      "\n",
      "\n"
     ]
    }
   ],
   "source": [
    "import math\n",
    "import random\n",
    "import numpy as np\n",
    "\n",
    "I = 3\n",
    "n_sample = 4\n",
    "eta = 0.5\n",
    "_lambda = 1.0\n",
    "desired_error = 0.01\n",
    "\n",
    "def switch(x):\n",
    "    return 1 if x > 0 else -1 if x < 0 else 0\n",
    "\n",
    "x = np.array([\n",
    "    [0,0,-1],\n",
    "    [0,1,-1],\n",
    "    [1,0,-1],\n",
    "    [1,1,-1]\n",
    "])\n",
    "\n",
    "w = np.zeros(I)\n",
    "d = np.array([-1,-1,-1,1])\n",
    "o = 0.0\n",
    "\n",
    "def initialization():\n",
    "    global w\n",
    "    w = np.array([random.random() for _ in range(I)])\n",
    "\n",
    "def find_output(p):\n",
    "    global o\n",
    "    temp = np.dot(w, x[p])\n",
    "    o = switch(temp)\n",
    "\n",
    "def print_result():\n",
    "    print(\"\\n\\n\")\n",
    "    print(\"The connection weights of the neurons:\")\n",
    "    print(w)\n",
    "    print(\"\\n\\n\")\n",
    "\n",
    "def main():\n",
    "    global w, o\n",
    "    initialization()\n",
    "    q = 0\n",
    "    Error = float('inf')\n",
    "    while Error > desired_error:\n",
    "        q += 1\n",
    "        Error = 0\n",
    "        for p in range(n_sample):\n",
    "            find_output(p)\n",
    "            Error += 0.5 * pow(d[p] - o, 2.0)\n",
    "            learning_signal = eta * (d[p] - o)\n",
    "            w += learning_signal * x[p]\n",
    "        print(f\"Error in the {q}-th learning cycle={Error}\")\n",
    "    print_result()\n",
    "\n",
    "if __name__ == \"__main__\":\n",
    "    main()"
   ]
  }
 ],
 "metadata": {
  "kernelspec": {
   "display_name": ".venv",
   "language": "python",
   "name": "python3"
  },
  "language_info": {
   "codemirror_mode": {
    "name": "ipython",
    "version": 3
   },
   "file_extension": ".py",
   "mimetype": "text/x-python",
   "name": "python",
   "nbconvert_exporter": "python",
   "pygments_lexer": "ipython3",
   "version": "3.10.11"
  }
 },
 "nbformat": 4,
 "nbformat_minor": 2
}
